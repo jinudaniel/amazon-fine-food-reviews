{
 "cells": [
  {
   "cell_type": "markdown",
   "metadata": {},
   "source": [
    "# Amazon Fine Food Reviews"
   ]
  },
  {
   "cell_type": "code",
   "execution_count": 1,
   "metadata": {},
   "outputs": [],
   "source": [
    "%reload_ext autoreload\n",
    "%autoreload 2\n",
    "%matplotlib inline"
   ]
  },
  {
   "cell_type": "code",
   "execution_count": 2,
   "metadata": {},
   "outputs": [],
   "source": [
    "from fastai.text import *"
   ]
  },
  {
   "cell_type": "code",
   "execution_count": 3,
   "metadata": {},
   "outputs": [],
   "source": [
    "path = Path('/home/jupyter/work/data')"
   ]
  },
  {
   "cell_type": "markdown",
   "metadata": {},
   "source": [
    "## Language Model"
   ]
  },
  {
   "cell_type": "code",
   "execution_count": 6,
   "metadata": {},
   "outputs": [],
   "source": [
    "# https://docs.fast.ai/data_block.html\n",
    "data_lm = (TextList\n",
    "           .from_csv(path, 'Reviews.csv', cols='Text')\n",
    "           #Where are the text? Column 'Text' of Reviews.csv\n",
    "           .split_by_rand_pct()\n",
    "           #How to split it? Randomly with the default 20% in valid\n",
    "           .label_for_lm()\n",
    "           #Label it for a language model\n",
    "           .databunch())\n",
    "           #Finally we convert to a DataBunch"
   ]
  },
  {
   "cell_type": "code",
   "execution_count": 7,
   "metadata": {},
   "outputs": [],
   "source": [
    "data_lm.save('amazon_reviews_lm.pkl')"
   ]
  },
  {
   "cell_type": "code",
   "execution_count": 4,
   "metadata": {},
   "outputs": [],
   "source": [
    "bs = 48\n",
    "data_lm = load_data(path, 'amazon_reviews_lm.pkl', bs=bs)"
   ]
  },
  {
   "cell_type": "code",
   "execution_count": 5,
   "metadata": {},
   "outputs": [
    {
     "data": {
      "text/html": [
       "<table border=\"1\" class=\"dataframe\">\n",
       "  <thead>\n",
       "    <tr style=\"text-align: right;\">\n",
       "      <th>idx</th>\n",
       "      <th>text</th>\n",
       "    </tr>\n",
       "  </thead>\n",
       "  <tbody>\n",
       "    <tr>\n",
       "      <td>0</td>\n",
       "      <td>peanuts were actually small sized unsalted . xxmaj not sure if this was an error or if the vendor intended to represent the product as \" xxmaj jumbo \" . xxbos xxmaj this is a confection that has been around a few centuries . xxmaj it is a light , pillowy citrus gelatin with nuts - in this case xxmaj filberts . xxmaj and it is cut into tiny</td>\n",
       "    </tr>\n",
       "    <tr>\n",
       "      <td>1</td>\n",
       "      <td>nuts every 3 month . xxmaj mauna xxmaj loa xxmaj nuts have been always fresh . xxbos xxmaj these nuts are to die for ! xxmaj and i agree with the other reviewers ... they are absolutely addictive . i 'm not a coffee drinker so i was n't sure i 'd like the taste . xxmaj but they are delicious . xxmaj just barely a hint of a</td>\n",
       "    </tr>\n",
       "    <tr>\n",
       "      <td>2</td>\n",
       "      <td>xxmaj shake &amp; xxmaj bake is light years ahead of a meal like xxmaj hamburger - helper as far as nutrition goes , so i like to always have some around for emergencies . i 'll even try it on fish if that 's the only meat i happen to have around . \\n \\n  xxmaj just the right amount of spices , easy , low - cal ,</td>\n",
       "    </tr>\n",
       "    <tr>\n",
       "      <td>3</td>\n",
       "      <td>this is going to put it in perspective ; \\n  1 ) xxmaj the average size bags are about 1.69 ounces \\n  2 ) xxmaj the larger size bags range from 9 - 11 ounces depending on which one as they make several . \\n  3 ) xxmaj this bag was just over 42 ounces and they go up to 60 ounces in certain packaging . \\n</td>\n",
       "    </tr>\n",
       "    <tr>\n",
       "      <td>4</td>\n",
       "      <td>is also tasty and provides great energy . xxbos i picked up a case of these , hoping to find a cheaper alternative to 5-hour xxmaj energy ( at less than 1 / 3 the price , this is definitely cheaper ) . xxmaj red xxmaj rain tastes fine ( berry flavor ) and provides a similar pick me up that you 'd find from 5-hour xxmaj energy ,</td>\n",
       "    </tr>\n",
       "  </tbody>\n",
       "</table>"
      ],
      "text/plain": [
       "<IPython.core.display.HTML object>"
      ]
     },
     "metadata": {},
     "output_type": "display_data"
    }
   ],
   "source": [
    "data_lm.show_batch()"
   ]
  },
  {
   "cell_type": "code",
   "execution_count": 6,
   "metadata": {},
   "outputs": [],
   "source": [
    "learn = language_model_learner(data_lm, AWD_LSTM, drop_mult=0.3)"
   ]
  },
  {
   "cell_type": "code",
   "execution_count": 11,
   "metadata": {},
   "outputs": [
    {
     "data": {
      "text/html": [],
      "text/plain": [
       "<IPython.core.display.HTML object>"
      ]
     },
     "metadata": {},
     "output_type": "display_data"
    },
    {
     "name": "stdout",
     "output_type": "stream",
     "text": [
      "LR Finder is complete, type {learner_name}.recorder.plot() to see the graph.\n",
      "Min numerical gradient: 2.29E-02\n"
     ]
    },
    {
     "data": {
      "image/png": "[encoded data removed]",
      "text/plain": [
       "<Figure size 432x288 with 1 Axes>"
      ]
     },
     "metadata": {
      "needs_background": "light"
     },
     "output_type": "display_data"
    }
   ],
   "source": [
    "learn.lr_find()\n",
    "learn.recorder.plot(suggestion=True)"
   ]
  },
  {
   "cell_type": "code",
   "execution_count": 12,
   "metadata": {},
   "outputs": [
    {
     "data": {
      "text/plain": [
       "0.022908676527677745"
      ]
     },
     "execution_count": 12,
     "metadata": {},
     "output_type": "execute_result"
    }
   ],
   "source": [
    "min_grad_lr = learn.recorder.min_grad_lr\n",
    "min_grad_lr"
   ]
  },
  {
   "cell_type": "code",
   "execution_count": 13,
   "metadata": {},
   "outputs": [
    {
     "data": {
      "text/html": [
       "Total time: 1:31:49 <p><table border=\"1\" class=\"dataframe\">\n",
       "  <thead>\n",
       "    <tr style=\"text-align: left;\">\n",
       "      <th>epoch</th>\n",
       "      <th>train_loss</th>\n",
       "      <th>valid_loss</th>\n",
       "      <th>accuracy</th>\n",
       "      <th>time</th>\n",
       "    </tr>\n",
       "  </thead>\n",
       "  <tbody>\n",
       "    <tr>\n",
       "      <td>0</td>\n",
       "      <td>3.816456</td>\n",
       "      <td>3.648370</td>\n",
       "      <td>0.304551</td>\n",
       "      <td>1:31:49</td>\n",
       "    </tr>\n",
       "  </tbody>\n",
       "</table>"
      ],
      "text/plain": [
       "<IPython.core.display.HTML object>"
      ]
     },
     "metadata": {},
     "output_type": "display_data"
    }
   ],
   "source": [
    "learn.fit_one_cycle(1, min_grad_lr, moms=(0.8,0.7))"
   ]
  },
  {
   "cell_type": "code",
   "execution_count": 14,
   "metadata": {},
   "outputs": [
    {
     "data": {
      "text/plain": [
       "PosixPath('/home/jupyter/work/data/models/amazon_reviews_lm_freeze.pth')"
      ]
     },
     "execution_count": 14,
     "metadata": {},
     "output_type": "execute_result"
    }
   ],
   "source": [
    "learn.save('amazon_reviews_lm_freeze', return_path=True)"
   ]
  },
  {
   "cell_type": "code",
   "execution_count": 7,
   "metadata": {},
   "outputs": [
    {
     "data": {
      "text/plain": [
       "LanguageLearner(data=TextLMDataBunch;\n",
       "\n",
       "Train: LabelList (454764 items)\n",
       "x: LMTextList\n",
       "xxbos i have bought several of the xxmaj vitality canned dog food products and have found them all to be of good quality . xxmaj the product looks more like a stew than a processed meat and it smells better . xxmaj my xxmaj labrador is finicky and she appreciates this product better than most .,xxbos xxmaj product arrived labeled as xxmaj jumbo xxmaj salted xxmaj peanuts ... the peanuts were actually small sized unsalted . xxmaj not sure if this was an error or if the vendor intended to represent the product as \" xxmaj jumbo \" .,xxbos xxmaj this is a confection that has been around a few centuries . xxmaj it is a light , pillowy citrus gelatin with nuts - in this case xxmaj filberts . xxmaj and it is cut into tiny squares and then liberally coated with powdered sugar . xxmaj and it is a tiny mouthful of heaven . xxmaj not too chewy , and very flavorful . i highly recommend this yummy treat . xxmaj if you are familiar with the story of xxup c.s. xxmaj lewis ' \" xxmaj the xxmaj lion , xxmaj the xxmaj witch , and xxmaj the xxmaj wardrobe \" - this is the treat that seduces xxmaj edmund into selling out his xxmaj brother and xxmaj sisters to the xxmaj witch .,xxbos xxmaj if you are looking for the secret ingredient in xxmaj robitussin i believe i have found it . i got this in addition to the xxmaj root xxmaj beer xxmaj extract i ordered ( which was good ) and made some cherry soda . xxmaj the flavor is very medicinal .,xxbos xxmaj great taffy at a great price . xxmaj there was a wide assortment of yummy taffy . xxmaj delivery was very quick . xxmaj if your a taffy lover , this is a deal .\n",
       "y: LMLabelList\n",
       ",,,,\n",
       "Path: /home/jupyter/work/data;\n",
       "\n",
       "Valid: LabelList (113690 items)\n",
       "x: LMTextList\n",
       "xxbos xxmaj this was a staple to my lower carb diet , loved it with walnuts and a sprinkle of xxmaj truvia floating in almond milk . xxmaj yum ! xxmaj now , it is xxup off my shopping list . i did find an alternative at a local health food store and it 's very good , comes in 4 flavors http : / / www.amazon.com / xxmaj nutritious - xxmaj living - xxmaj vanilla - xxmaj almond - xxmaj cereal / dp / xxup xxunk k / ref = xxunk = grocery&ie = xxunk - xxunk = xxunk,xxbos i still remember when mom or one of my brothers prepared this dessert , it took longer to cook than the time we took to finish it . xxmaj and is just great that i can make it now that i 'm married and my loved ones can taste the same lemon pie like in the old days . \n",
       "  xxmaj easy to make easier to enjoy .,xxbos xxmaj awful , xxmaj awful , xxmaj awful ! i like a lighter roast and i really love french vanilla so i was thrilled to find this one . xxmaj with the first sip i was highly disappointed . xxmaj it has a very strong artificial flavor that does n't taste anything like french vanilla and it certainly does n't taste like coffee . xxmaj like one other reviewer said , i 'll probably just toss it in the trash and throw that money away because i do n't know anybody who would enjoy it . xxup yuk !,xxbos these cookies a tiny but tasty treasures . not very many to a package but a good size for lunches.at 24 per lot these are an okay value,xxbos xxmaj sorry , but i was n't terribly impressed by these light snack crackers . xxmaj okay , i admit that i never liked xxmaj oreos that much in the first place . xxmaj this 100 calorie bag of thin snack crackers tastes like xxmaj oreos , for sure -- minus the sugar high pasted in the traditional sandwich cookie filling . xxmaj but as one other reviewer noted , they 're not all that chocolaty , a critical flaw in the opinion of this chocoholic . xxmaj worse than that , they 're not so good for you . xxmaj if you 're going to have 100 calories , there are a lot healthier ways to do so than devoting nearly 40 percent to sugar . xxmaj for my money , a piece of fruit makes a lot more sense . xxmaj it not only costs less , it 's got lots more nutritional value , not to mention fibre .\n",
       "y: LMLabelList\n",
       ",,,,\n",
       "Path: /home/jupyter/work/data;\n",
       "\n",
       "Test: None, model=SequentialRNN(\n",
       "  (0): AWD_LSTM(\n",
       "    (encoder): Embedding(56252, 400, padding_idx=1)\n",
       "    (encoder_dp): EmbeddingDropout(\n",
       "      (emb): Embedding(56252, 400, padding_idx=1)\n",
       "    )\n",
       "    (rnns): ModuleList(\n",
       "      (0): WeightDropout(\n",
       "        (module): LSTM(400, 1150, batch_first=True)\n",
       "      )\n",
       "      (1): WeightDropout(\n",
       "        (module): LSTM(1150, 1150, batch_first=True)\n",
       "      )\n",
       "      (2): WeightDropout(\n",
       "        (module): LSTM(1150, 400, batch_first=True)\n",
       "      )\n",
       "    )\n",
       "    (input_dp): RNNDropout()\n",
       "    (hidden_dps): ModuleList(\n",
       "      (0): RNNDropout()\n",
       "      (1): RNNDropout()\n",
       "      (2): RNNDropout()\n",
       "    )\n",
       "  )\n",
       "  (1): LinearDecoder(\n",
       "    (decoder): Linear(in_features=400, out_features=56252, bias=True)\n",
       "    (output_dp): RNNDropout()\n",
       "  )\n",
       "), opt_func=functools.partial(<class 'torch.optim.adam.Adam'>, betas=(0.9, 0.99)), loss_func=FlattenedLoss of CrossEntropyLoss(), metrics=[<function accuracy at 0x7f30f7d4d0d0>], true_wd=True, bn_wd=True, wd=0.01, train_bn=True, path=PosixPath('/home/jupyter/work/data'), model_dir='models', callback_fns=[functools.partial(<class 'fastai.basic_train.Recorder'>, add_time=True)], callbacks=[RNNTrainer\n",
       "learn: LanguageLearner(data=TextLMDataBunch;\n",
       "\n",
       "Train: LabelList (454764 items)\n",
       "x: LMTextList\n",
       "xxbos i have bought several of the xxmaj vitality canned dog food products and have found them all to be of good quality . xxmaj the product looks more like a stew than a processed meat and it smells better . xxmaj my xxmaj labrador is finicky and she appreciates this product better than most .,xxbos xxmaj product arrived labeled as xxmaj jumbo xxmaj salted xxmaj peanuts ... the peanuts were actually small sized unsalted . xxmaj not sure if this was an error or if the vendor intended to represent the product as \" xxmaj jumbo \" .,xxbos xxmaj this is a confection that has been around a few centuries . xxmaj it is a light , pillowy citrus gelatin with nuts - in this case xxmaj filberts . xxmaj and it is cut into tiny squares and then liberally coated with powdered sugar . xxmaj and it is a tiny mouthful of heaven . xxmaj not too chewy , and very flavorful . i highly recommend this yummy treat . xxmaj if you are familiar with the story of xxup c.s. xxmaj lewis ' \" xxmaj the xxmaj lion , xxmaj the xxmaj witch , and xxmaj the xxmaj wardrobe \" - this is the treat that seduces xxmaj edmund into selling out his xxmaj brother and xxmaj sisters to the xxmaj witch .,xxbos xxmaj if you are looking for the secret ingredient in xxmaj robitussin i believe i have found it . i got this in addition to the xxmaj root xxmaj beer xxmaj extract i ordered ( which was good ) and made some cherry soda . xxmaj the flavor is very medicinal .,xxbos xxmaj great taffy at a great price . xxmaj there was a wide assortment of yummy taffy . xxmaj delivery was very quick . xxmaj if your a taffy lover , this is a deal .\n",
       "y: LMLabelList\n",
       ",,,,\n",
       "Path: /home/jupyter/work/data;\n",
       "\n",
       "Valid: LabelList (113690 items)\n",
       "x: LMTextList\n",
       "xxbos xxmaj this was a staple to my lower carb diet , loved it with walnuts and a sprinkle of xxmaj truvia floating in almond milk . xxmaj yum ! xxmaj now , it is xxup off my shopping list . i did find an alternative at a local health food store and it 's very good , comes in 4 flavors http : / / www.amazon.com / xxmaj nutritious - xxmaj living - xxmaj vanilla - xxmaj almond - xxmaj cereal / dp / xxup xxunk k / ref = xxunk = grocery&ie = xxunk - xxunk = xxunk,xxbos i still remember when mom or one of my brothers prepared this dessert , it took longer to cook than the time we took to finish it . xxmaj and is just great that i can make it now that i 'm married and my loved ones can taste the same lemon pie like in the old days . \n",
       "  xxmaj easy to make easier to enjoy .,xxbos xxmaj awful , xxmaj awful , xxmaj awful ! i like a lighter roast and i really love french vanilla so i was thrilled to find this one . xxmaj with the first sip i was highly disappointed . xxmaj it has a very strong artificial flavor that does n't taste anything like french vanilla and it certainly does n't taste like coffee . xxmaj like one other reviewer said , i 'll probably just toss it in the trash and throw that money away because i do n't know anybody who would enjoy it . xxup yuk !,xxbos these cookies a tiny but tasty treasures . not very many to a package but a good size for lunches.at 24 per lot these are an okay value,xxbos xxmaj sorry , but i was n't terribly impressed by these light snack crackers . xxmaj okay , i admit that i never liked xxmaj oreos that much in the first place . xxmaj this 100 calorie bag of thin snack crackers tastes like xxmaj oreos , for sure -- minus the sugar high pasted in the traditional sandwich cookie filling . xxmaj but as one other reviewer noted , they 're not all that chocolaty , a critical flaw in the opinion of this chocoholic . xxmaj worse than that , they 're not so good for you . xxmaj if you 're going to have 100 calories , there are a lot healthier ways to do so than devoting nearly 40 percent to sugar . xxmaj for my money , a piece of fruit makes a lot more sense . xxmaj it not only costs less , it 's got lots more nutritional value , not to mention fibre .\n",
       "y: LMLabelList\n",
       ",,,,\n",
       "Path: /home/jupyter/work/data;\n",
       "\n",
       "Test: None, model=SequentialRNN(\n",
       "  (0): AWD_LSTM(\n",
       "    (encoder): Embedding(56252, 400, padding_idx=1)\n",
       "    (encoder_dp): EmbeddingDropout(\n",
       "      (emb): Embedding(56252, 400, padding_idx=1)\n",
       "    )\n",
       "    (rnns): ModuleList(\n",
       "      (0): WeightDropout(\n",
       "        (module): LSTM(400, 1150, batch_first=True)\n",
       "      )\n",
       "      (1): WeightDropout(\n",
       "        (module): LSTM(1150, 1150, batch_first=True)\n",
       "      )\n",
       "      (2): WeightDropout(\n",
       "        (module): LSTM(1150, 400, batch_first=True)\n",
       "      )\n",
       "    )\n",
       "    (input_dp): RNNDropout()\n",
       "    (hidden_dps): ModuleList(\n",
       "      (0): RNNDropout()\n",
       "      (1): RNNDropout()\n",
       "      (2): RNNDropout()\n",
       "    )\n",
       "  )\n",
       "  (1): LinearDecoder(\n",
       "    (decoder): Linear(in_features=400, out_features=56252, bias=True)\n",
       "    (output_dp): RNNDropout()\n",
       "  )\n",
       "), opt_func=functools.partial(<class 'torch.optim.adam.Adam'>, betas=(0.9, 0.99)), loss_func=FlattenedLoss of CrossEntropyLoss(), metrics=[<function accuracy at 0x7f30f7d4d0d0>], true_wd=True, bn_wd=True, wd=0.01, train_bn=True, path=PosixPath('/home/jupyter/work/data'), model_dir='models', callback_fns=[functools.partial(<class 'fastai.basic_train.Recorder'>, add_time=True)], callbacks=[...], layer_groups=[Sequential(\n",
       "  (0): WeightDropout(\n",
       "    (module): LSTM(400, 1150, batch_first=True)\n",
       "  )\n",
       "  (1): RNNDropout()\n",
       "), Sequential(\n",
       "  (0): WeightDropout(\n",
       "    (module): LSTM(1150, 1150, batch_first=True)\n",
       "  )\n",
       "  (1): RNNDropout()\n",
       "), Sequential(\n",
       "  (0): WeightDropout(\n",
       "    (module): LSTM(1150, 400, batch_first=True)\n",
       "  )\n",
       "  (1): RNNDropout()\n",
       "), Sequential(\n",
       "  (0): Embedding(56252, 400, padding_idx=1)\n",
       "  (1): EmbeddingDropout(\n",
       "    (emb): Embedding(56252, 400, padding_idx=1)\n",
       "  )\n",
       "  (2): LinearDecoder(\n",
       "    (decoder): Linear(in_features=400, out_features=56252, bias=True)\n",
       "    (output_dp): RNNDropout()\n",
       "  )\n",
       ")], add_time=True)\n",
       "alpha: 2.0\n",
       "beta: 1.0], layer_groups=[Sequential(\n",
       "  (0): WeightDropout(\n",
       "    (module): LSTM(400, 1150, batch_first=True)\n",
       "  )\n",
       "  (1): RNNDropout()\n",
       "), Sequential(\n",
       "  (0): WeightDropout(\n",
       "    (module): LSTM(1150, 1150, batch_first=True)\n",
       "  )\n",
       "  (1): RNNDropout()\n",
       "), Sequential(\n",
       "  (0): WeightDropout(\n",
       "    (module): LSTM(1150, 400, batch_first=True)\n",
       "  )\n",
       "  (1): RNNDropout()\n",
       "), Sequential(\n",
       "  (0): Embedding(56252, 400, padding_idx=1)\n",
       "  (1): EmbeddingDropout(\n",
       "    (emb): Embedding(56252, 400, padding_idx=1)\n",
       "  )\n",
       "  (2): LinearDecoder(\n",
       "    (decoder): Linear(in_features=400, out_features=56252, bias=True)\n",
       "    (output_dp): RNNDropout()\n",
       "  )\n",
       ")], add_time=True)"
      ]
     },
     "execution_count": 7,
     "metadata": {},
     "output_type": "execute_result"
    }
   ],
   "source": [
    "learn.load('amazon_reviews_lm_freeze')"
   ]
  },
  {
   "cell_type": "code",
   "execution_count": 9,
   "metadata": {},
   "outputs": [
    {
     "data": {
      "text/html": [
       "Total time: 1:46:41 <p><table border=\"1\" class=\"dataframe\">\n",
       "  <thead>\n",
       "    <tr style=\"text-align: left;\">\n",
       "      <th>epoch</th>\n",
       "      <th>train_loss</th>\n",
       "      <th>valid_loss</th>\n",
       "      <th>accuracy</th>\n",
       "      <th>time</th>\n",
       "    </tr>\n",
       "  </thead>\n",
       "  <tbody>\n",
       "    <tr>\n",
       "      <td>0</td>\n",
       "      <td>3.307281</td>\n",
       "      <td>3.207757</td>\n",
       "      <td>0.360729</td>\n",
       "      <td>1:46:41</td>\n",
       "    </tr>\n",
       "  </tbody>\n",
       "</table>"
      ],
      "text/plain": [
       "<IPython.core.display.HTML object>"
      ]
     },
     "metadata": {},
     "output_type": "display_data"
    }
   ],
   "source": [
    "learn.unfreeze()\n",
    "learn.fit_one_cycle(1, 1e-3, moms=(0.8,0.7))"
   ]
  },
  {
   "cell_type": "code",
   "execution_count": 10,
   "metadata": {},
   "outputs": [],
   "source": [
    "learn.save('amazon_reviews_fine_tuned')"
   ]
  },
  {
   "cell_type": "code",
   "execution_count": 24,
   "metadata": {},
   "outputs": [
    {
     "data": {
      "text/plain": [
       "LanguageLearner(data=TextLMDataBunch;\n",
       "\n",
       "Train: LabelList (454764 items)\n",
       "x: LMTextList\n",
       "xxbos i have bought several of the xxmaj vitality canned dog food products and have found them all to be of good quality . xxmaj the product looks more like a stew than a processed meat and it smells better . xxmaj my xxmaj labrador is finicky and she appreciates this product better than most .,xxbos xxmaj product arrived labeled as xxmaj jumbo xxmaj salted xxmaj peanuts ... the peanuts were actually small sized unsalted . xxmaj not sure if this was an error or if the vendor intended to represent the product as \" xxmaj jumbo \" .,xxbos xxmaj this is a confection that has been around a few centuries . xxmaj it is a light , pillowy citrus gelatin with nuts - in this case xxmaj filberts . xxmaj and it is cut into tiny squares and then liberally coated with powdered sugar . xxmaj and it is a tiny mouthful of heaven . xxmaj not too chewy , and very flavorful . i highly recommend this yummy treat . xxmaj if you are familiar with the story of xxup c.s. xxmaj lewis ' \" xxmaj the xxmaj lion , xxmaj the xxmaj witch , and xxmaj the xxmaj wardrobe \" - this is the treat that seduces xxmaj edmund into selling out his xxmaj brother and xxmaj sisters to the xxmaj witch .,xxbos xxmaj if you are looking for the secret ingredient in xxmaj robitussin i believe i have found it . i got this in addition to the xxmaj root xxmaj beer xxmaj extract i ordered ( which was good ) and made some cherry soda . xxmaj the flavor is very medicinal .,xxbos xxmaj great taffy at a great price . xxmaj there was a wide assortment of yummy taffy . xxmaj delivery was very quick . xxmaj if your a taffy lover , this is a deal .\n",
       "y: LMLabelList\n",
       ",,,,\n",
       "Path: /home/jupyter/work/data;\n",
       "\n",
       "Valid: LabelList (113690 items)\n",
       "x: LMTextList\n",
       "xxbos xxmaj this was a staple to my lower carb diet , loved it with walnuts and a sprinkle of xxmaj truvia floating in almond milk . xxmaj yum ! xxmaj now , it is xxup off my shopping list . i did find an alternative at a local health food store and it 's very good , comes in 4 flavors http : / / www.amazon.com / xxmaj nutritious - xxmaj living - xxmaj vanilla - xxmaj almond - xxmaj cereal / dp / xxup xxunk k / ref = xxunk = grocery&ie = xxunk - xxunk = xxunk,xxbos i still remember when mom or one of my brothers prepared this dessert , it took longer to cook than the time we took to finish it . xxmaj and is just great that i can make it now that i 'm married and my loved ones can taste the same lemon pie like in the old days . \n",
       "  xxmaj easy to make easier to enjoy .,xxbos xxmaj awful , xxmaj awful , xxmaj awful ! i like a lighter roast and i really love french vanilla so i was thrilled to find this one . xxmaj with the first sip i was highly disappointed . xxmaj it has a very strong artificial flavor that does n't taste anything like french vanilla and it certainly does n't taste like coffee . xxmaj like one other reviewer said , i 'll probably just toss it in the trash and throw that money away because i do n't know anybody who would enjoy it . xxup yuk !,xxbos these cookies a tiny but tasty treasures . not very many to a package but a good size for lunches.at 24 per lot these are an okay value,xxbos xxmaj sorry , but i was n't terribly impressed by these light snack crackers . xxmaj okay , i admit that i never liked xxmaj oreos that much in the first place . xxmaj this 100 calorie bag of thin snack crackers tastes like xxmaj oreos , for sure -- minus the sugar high pasted in the traditional sandwich cookie filling . xxmaj but as one other reviewer noted , they 're not all that chocolaty , a critical flaw in the opinion of this chocoholic . xxmaj worse than that , they 're not so good for you . xxmaj if you 're going to have 100 calories , there are a lot healthier ways to do so than devoting nearly 40 percent to sugar . xxmaj for my money , a piece of fruit makes a lot more sense . xxmaj it not only costs less , it 's got lots more nutritional value , not to mention fibre .\n",
       "y: LMLabelList\n",
       ",,,,\n",
       "Path: /home/jupyter/work/data;\n",
       "\n",
       "Test: None, model=SequentialRNN(\n",
       "  (0): AWD_LSTM(\n",
       "    (encoder): Embedding(56252, 400, padding_idx=1)\n",
       "    (encoder_dp): EmbeddingDropout(\n",
       "      (emb): Embedding(56252, 400, padding_idx=1)\n",
       "    )\n",
       "    (rnns): ModuleList(\n",
       "      (0): WeightDropout(\n",
       "        (module): LSTM(400, 1150, batch_first=True)\n",
       "      )\n",
       "      (1): WeightDropout(\n",
       "        (module): LSTM(1150, 1150, batch_first=True)\n",
       "      )\n",
       "      (2): WeightDropout(\n",
       "        (module): LSTM(1150, 400, batch_first=True)\n",
       "      )\n",
       "    )\n",
       "    (input_dp): RNNDropout()\n",
       "    (hidden_dps): ModuleList(\n",
       "      (0): RNNDropout()\n",
       "      (1): RNNDropout()\n",
       "      (2): RNNDropout()\n",
       "    )\n",
       "  )\n",
       "  (1): LinearDecoder(\n",
       "    (decoder): Linear(in_features=400, out_features=56252, bias=True)\n",
       "    (output_dp): RNNDropout()\n",
       "  )\n",
       "), opt_func=functools.partial(<class 'torch.optim.adam.Adam'>, betas=(0.9, 0.99)), loss_func=FlattenedLoss of CrossEntropyLoss(), metrics=[<function accuracy at 0x7faa3c79f0d0>], true_wd=True, bn_wd=True, wd=0.01, train_bn=True, path=PosixPath('/home/jupyter/work/data'), model_dir='models', callback_fns=[functools.partial(<class 'fastai.basic_train.Recorder'>, add_time=True)], callbacks=[RNNTrainer\n",
       "learn: LanguageLearner(data=TextLMDataBunch;\n",
       "\n",
       "Train: LabelList (454764 items)\n",
       "x: LMTextList\n",
       "xxbos i have bought several of the xxmaj vitality canned dog food products and have found them all to be of good quality . xxmaj the product looks more like a stew than a processed meat and it smells better . xxmaj my xxmaj labrador is finicky and she appreciates this product better than most .,xxbos xxmaj product arrived labeled as xxmaj jumbo xxmaj salted xxmaj peanuts ... the peanuts were actually small sized unsalted . xxmaj not sure if this was an error or if the vendor intended to represent the product as \" xxmaj jumbo \" .,xxbos xxmaj this is a confection that has been around a few centuries . xxmaj it is a light , pillowy citrus gelatin with nuts - in this case xxmaj filberts . xxmaj and it is cut into tiny squares and then liberally coated with powdered sugar . xxmaj and it is a tiny mouthful of heaven . xxmaj not too chewy , and very flavorful . i highly recommend this yummy treat . xxmaj if you are familiar with the story of xxup c.s. xxmaj lewis ' \" xxmaj the xxmaj lion , xxmaj the xxmaj witch , and xxmaj the xxmaj wardrobe \" - this is the treat that seduces xxmaj edmund into selling out his xxmaj brother and xxmaj sisters to the xxmaj witch .,xxbos xxmaj if you are looking for the secret ingredient in xxmaj robitussin i believe i have found it . i got this in addition to the xxmaj root xxmaj beer xxmaj extract i ordered ( which was good ) and made some cherry soda . xxmaj the flavor is very medicinal .,xxbos xxmaj great taffy at a great price . xxmaj there was a wide assortment of yummy taffy . xxmaj delivery was very quick . xxmaj if your a taffy lover , this is a deal .\n",
       "y: LMLabelList\n",
       ",,,,\n",
       "Path: /home/jupyter/work/data;\n",
       "\n",
       "Valid: LabelList (113690 items)\n",
       "x: LMTextList\n",
       "xxbos xxmaj this was a staple to my lower carb diet , loved it with walnuts and a sprinkle of xxmaj truvia floating in almond milk . xxmaj yum ! xxmaj now , it is xxup off my shopping list . i did find an alternative at a local health food store and it 's very good , comes in 4 flavors http : / / www.amazon.com / xxmaj nutritious - xxmaj living - xxmaj vanilla - xxmaj almond - xxmaj cereal / dp / xxup xxunk k / ref = xxunk = grocery&ie = xxunk - xxunk = xxunk,xxbos i still remember when mom or one of my brothers prepared this dessert , it took longer to cook than the time we took to finish it . xxmaj and is just great that i can make it now that i 'm married and my loved ones can taste the same lemon pie like in the old days . \n",
       "  xxmaj easy to make easier to enjoy .,xxbos xxmaj awful , xxmaj awful , xxmaj awful ! i like a lighter roast and i really love french vanilla so i was thrilled to find this one . xxmaj with the first sip i was highly disappointed . xxmaj it has a very strong artificial flavor that does n't taste anything like french vanilla and it certainly does n't taste like coffee . xxmaj like one other reviewer said , i 'll probably just toss it in the trash and throw that money away because i do n't know anybody who would enjoy it . xxup yuk !,xxbos these cookies a tiny but tasty treasures . not very many to a package but a good size for lunches.at 24 per lot these are an okay value,xxbos xxmaj sorry , but i was n't terribly impressed by these light snack crackers . xxmaj okay , i admit that i never liked xxmaj oreos that much in the first place . xxmaj this 100 calorie bag of thin snack crackers tastes like xxmaj oreos , for sure -- minus the sugar high pasted in the traditional sandwich cookie filling . xxmaj but as one other reviewer noted , they 're not all that chocolaty , a critical flaw in the opinion of this chocoholic . xxmaj worse than that , they 're not so good for you . xxmaj if you 're going to have 100 calories , there are a lot healthier ways to do so than devoting nearly 40 percent to sugar . xxmaj for my money , a piece of fruit makes a lot more sense . xxmaj it not only costs less , it 's got lots more nutritional value , not to mention fibre .\n",
       "y: LMLabelList\n",
       ",,,,\n",
       "Path: /home/jupyter/work/data;\n",
       "\n",
       "Test: None, model=SequentialRNN(\n",
       "  (0): AWD_LSTM(\n",
       "    (encoder): Embedding(56252, 400, padding_idx=1)\n",
       "    (encoder_dp): EmbeddingDropout(\n",
       "      (emb): Embedding(56252, 400, padding_idx=1)\n",
       "    )\n",
       "    (rnns): ModuleList(\n",
       "      (0): WeightDropout(\n",
       "        (module): LSTM(400, 1150, batch_first=True)\n",
       "      )\n",
       "      (1): WeightDropout(\n",
       "        (module): LSTM(1150, 1150, batch_first=True)\n",
       "      )\n",
       "      (2): WeightDropout(\n",
       "        (module): LSTM(1150, 400, batch_first=True)\n",
       "      )\n",
       "    )\n",
       "    (input_dp): RNNDropout()\n",
       "    (hidden_dps): ModuleList(\n",
       "      (0): RNNDropout()\n",
       "      (1): RNNDropout()\n",
       "      (2): RNNDropout()\n",
       "    )\n",
       "  )\n",
       "  (1): LinearDecoder(\n",
       "    (decoder): Linear(in_features=400, out_features=56252, bias=True)\n",
       "    (output_dp): RNNDropout()\n",
       "  )\n",
       "), opt_func=functools.partial(<class 'torch.optim.adam.Adam'>, betas=(0.9, 0.99)), loss_func=FlattenedLoss of CrossEntropyLoss(), metrics=[<function accuracy at 0x7faa3c79f0d0>], true_wd=True, bn_wd=True, wd=0.01, train_bn=True, path=PosixPath('/home/jupyter/work/data'), model_dir='models', callback_fns=[functools.partial(<class 'fastai.basic_train.Recorder'>, add_time=True)], callbacks=[...], layer_groups=[Sequential(\n",
       "  (0): WeightDropout(\n",
       "    (module): LSTM(400, 1150, batch_first=True)\n",
       "  )\n",
       "  (1): RNNDropout()\n",
       "), Sequential(\n",
       "  (0): WeightDropout(\n",
       "    (module): LSTM(1150, 1150, batch_first=True)\n",
       "  )\n",
       "  (1): RNNDropout()\n",
       "), Sequential(\n",
       "  (0): WeightDropout(\n",
       "    (module): LSTM(1150, 400, batch_first=True)\n",
       "  )\n",
       "  (1): RNNDropout()\n",
       "), Sequential(\n",
       "  (0): Embedding(56252, 400, padding_idx=1)\n",
       "  (1): EmbeddingDropout(\n",
       "    (emb): Embedding(56252, 400, padding_idx=1)\n",
       "  )\n",
       "  (2): LinearDecoder(\n",
       "    (decoder): Linear(in_features=400, out_features=56252, bias=True)\n",
       "    (output_dp): RNNDropout()\n",
       "  )\n",
       ")], add_time=True)\n",
       "alpha: 2.0\n",
       "beta: 1.0], layer_groups=[Sequential(\n",
       "  (0): WeightDropout(\n",
       "    (module): LSTM(400, 1150, batch_first=True)\n",
       "  )\n",
       "  (1): RNNDropout()\n",
       "), Sequential(\n",
       "  (0): WeightDropout(\n",
       "    (module): LSTM(1150, 1150, batch_first=True)\n",
       "  )\n",
       "  (1): RNNDropout()\n",
       "), Sequential(\n",
       "  (0): WeightDropout(\n",
       "    (module): LSTM(1150, 400, batch_first=True)\n",
       "  )\n",
       "  (1): RNNDropout()\n",
       "), Sequential(\n",
       "  (0): Embedding(56252, 400, padding_idx=1)\n",
       "  (1): EmbeddingDropout(\n",
       "    (emb): Embedding(56252, 400, padding_idx=1)\n",
       "  )\n",
       "  (2): LinearDecoder(\n",
       "    (decoder): Linear(in_features=400, out_features=56252, bias=True)\n",
       "    (output_dp): RNNDropout()\n",
       "  )\n",
       ")], add_time=True)"
      ]
     },
     "execution_count": 24,
     "metadata": {},
     "output_type": "execute_result"
    }
   ],
   "source": [
    "learn.load('amazon_reviews_fine_tuned')"
   ]
  },
  {
   "cell_type": "code",
   "execution_count": 8,
   "metadata": {},
   "outputs": [],
   "source": [
    "#learn.save_encoder('amazon_reviews_fine_tuned_enc')\n",
    "TEXT = \"Product arrived on time\"\n",
    "N_WORDS = 40\n",
    "N_SENTENCES = 2"
   ]
  },
  {
   "cell_type": "code",
   "execution_count": 9,
   "metadata": {},
   "outputs": [
    {
     "name": "stdout",
     "output_type": "stream",
     "text": [
      "Product arrived on time and very fresh . i have been buying it in the USA for years . It was delivered on time and i will definitely order from them again . Thanks . xxbos First time i tried\n",
      "Product arrived on time and was in good shape . i highly recommend it . xxbos Love these chips ! i have tried a few others and the crunch is great .... Just not my favorite . They are\n"
     ]
    }
   ],
   "source": [
    "#learn.load_encoder('amazon_reviews_fine_tuned_enc')\n",
    "print(\"\\n\".join(learn.predict(TEXT, N_WORDS, temperature=0.75) for _ in range(N_SENTENCES)))"
   ]
  },
  {
   "cell_type": "code",
   "execution_count": 10,
   "metadata": {},
   "outputs": [
    {
     "data": {
      "text/html": [
       "<div>\n",
       "<style scoped>\n",
       "    .dataframe tbody tr th:only-of-type {\n",
       "        vertical-align: middle;\n",
       "    }\n",
       "\n",
       "    .dataframe tbody tr th {\n",
       "        vertical-align: top;\n",
       "    }\n",
       "\n",
       "    .dataframe thead th {\n",
       "        text-align: right;\n",
       "    }\n",
       "</style>\n",
       "<table border=\"1\" class=\"dataframe\">\n",
       "  <thead>\n",
       "    <tr style=\"text-align: right;\">\n",
       "      <th></th>\n",
       "      <th>Id</th>\n",
       "      <th>ProductId</th>\n",
       "      <th>UserId</th>\n",
       "      <th>ProfileName</th>\n",
       "      <th>HelpfulnessNumerator</th>\n",
       "      <th>HelpfulnessDenominator</th>\n",
       "      <th>Score</th>\n",
       "      <th>Time</th>\n",
       "      <th>Summary</th>\n",
       "      <th>Text</th>\n",
       "    </tr>\n",
       "  </thead>\n",
       "  <tbody>\n",
       "    <tr>\n",
       "      <th>0</th>\n",
       "      <td>1</td>\n",
       "      <td>B001E4KFG0</td>\n",
       "      <td>A3SGXH7AUHU8GW</td>\n",
       "      <td>delmartian</td>\n",
       "      <td>1</td>\n",
       "      <td>1</td>\n",
       "      <td>5</td>\n",
       "      <td>1303862400</td>\n",
       "      <td>Good Quality Dog Food</td>\n",
       "      <td>I have bought several of the Vitality canned d...</td>\n",
       "    </tr>\n",
       "    <tr>\n",
       "      <th>1</th>\n",
       "      <td>2</td>\n",
       "      <td>B00813GRG4</td>\n",
       "      <td>A1D87F6ZCVE5NK</td>\n",
       "      <td>dll pa</td>\n",
       "      <td>0</td>\n",
       "      <td>0</td>\n",
       "      <td>1</td>\n",
       "      <td>1346976000</td>\n",
       "      <td>Not as Advertised</td>\n",
       "      <td>Product arrived labeled as Jumbo Salted Peanut...</td>\n",
       "    </tr>\n",
       "    <tr>\n",
       "      <th>2</th>\n",
       "      <td>3</td>\n",
       "      <td>B000LQOCH0</td>\n",
       "      <td>ABXLMWJIXXAIN</td>\n",
       "      <td>Natalia Corres \"Natalia Corres\"</td>\n",
       "      <td>1</td>\n",
       "      <td>1</td>\n",
       "      <td>4</td>\n",
       "      <td>1219017600</td>\n",
       "      <td>\"Delight\" says it all</td>\n",
       "      <td>This is a confection that has been around a fe...</td>\n",
       "    </tr>\n",
       "    <tr>\n",
       "      <th>3</th>\n",
       "      <td>4</td>\n",
       "      <td>B000UA0QIQ</td>\n",
       "      <td>A395BORC6FGVXV</td>\n",
       "      <td>Karl</td>\n",
       "      <td>3</td>\n",
       "      <td>3</td>\n",
       "      <td>2</td>\n",
       "      <td>1307923200</td>\n",
       "      <td>Cough Medicine</td>\n",
       "      <td>If you are looking for the secret ingredient i...</td>\n",
       "    </tr>\n",
       "    <tr>\n",
       "      <th>4</th>\n",
       "      <td>5</td>\n",
       "      <td>B006K2ZZ7K</td>\n",
       "      <td>A1UQRSCLF8GW1T</td>\n",
       "      <td>Michael D. Bigham \"M. Wassir\"</td>\n",
       "      <td>0</td>\n",
       "      <td>0</td>\n",
       "      <td>5</td>\n",
       "      <td>1350777600</td>\n",
       "      <td>Great taffy</td>\n",
       "      <td>Great taffy at a great price.  There was a wid...</td>\n",
       "    </tr>\n",
       "  </tbody>\n",
       "</table>\n",
       "</div>"
      ],
      "text/plain": [
       "   Id   ProductId          UserId                      ProfileName  \\\n",
       "0   1  B001E4KFG0  A3SGXH7AUHU8GW                       delmartian   \n",
       "1   2  B00813GRG4  A1D87F6ZCVE5NK                           dll pa   \n",
       "2   3  B000LQOCH0   ABXLMWJIXXAIN  Natalia Corres \"Natalia Corres\"   \n",
       "3   4  B000UA0QIQ  A395BORC6FGVXV                             Karl   \n",
       "4   5  B006K2ZZ7K  A1UQRSCLF8GW1T    Michael D. Bigham \"M. Wassir\"   \n",
       "\n",
       "   HelpfulnessNumerator  HelpfulnessDenominator  Score        Time  \\\n",
       "0                     1                       1      5  1303862400   \n",
       "1                     0                       0      1  1346976000   \n",
       "2                     1                       1      4  1219017600   \n",
       "3                     3                       3      2  1307923200   \n",
       "4                     0                       0      5  1350777600   \n",
       "\n",
       "                 Summary                                               Text  \n",
       "0  Good Quality Dog Food  I have bought several of the Vitality canned d...  \n",
       "1      Not as Advertised  Product arrived labeled as Jumbo Salted Peanut...  \n",
       "2  \"Delight\" says it all  This is a confection that has been around a fe...  \n",
       "3         Cough Medicine  If you are looking for the secret ingredient i...  \n",
       "4            Great taffy  Great taffy at a great price.  There was a wid...  "
      ]
     },
     "execution_count": 10,
     "metadata": {},
     "output_type": "execute_result"
    }
   ],
   "source": [
    "df = pd.read_csv('/home/jupyter/work/data/Reviews.csv')\n",
    "df.head()"
   ]
  },
  {
   "cell_type": "code",
   "execution_count": 11,
   "metadata": {},
   "outputs": [],
   "source": [
    "def get_sentiment(value):\n",
    "    if value > 3:\n",
    "        return 1\n",
    "    else:\n",
    "        return 0"
   ]
  },
  {
   "cell_type": "code",
   "execution_count": 12,
   "metadata": {},
   "outputs": [],
   "source": [
    "df['Sentiment'] = df['Score'].apply(get_sentiment)"
   ]
  },
  {
   "cell_type": "code",
   "execution_count": 13,
   "metadata": {},
   "outputs": [
    {
     "data": {
      "text/html": [
       "<div>\n",
       "<style scoped>\n",
       "    .dataframe tbody tr th:only-of-type {\n",
       "        vertical-align: middle;\n",
       "    }\n",
       "\n",
       "    .dataframe tbody tr th {\n",
       "        vertical-align: top;\n",
       "    }\n",
       "\n",
       "    .dataframe thead th {\n",
       "        text-align: right;\n",
       "    }\n",
       "</style>\n",
       "<table border=\"1\" class=\"dataframe\">\n",
       "  <thead>\n",
       "    <tr style=\"text-align: right;\">\n",
       "      <th></th>\n",
       "      <th>Id</th>\n",
       "      <th>ProductId</th>\n",
       "      <th>UserId</th>\n",
       "      <th>ProfileName</th>\n",
       "      <th>HelpfulnessNumerator</th>\n",
       "      <th>HelpfulnessDenominator</th>\n",
       "      <th>Score</th>\n",
       "      <th>Time</th>\n",
       "      <th>Summary</th>\n",
       "      <th>Text</th>\n",
       "      <th>Sentiment</th>\n",
       "    </tr>\n",
       "  </thead>\n",
       "  <tbody>\n",
       "    <tr>\n",
       "      <th>0</th>\n",
       "      <td>1</td>\n",
       "      <td>B001E4KFG0</td>\n",
       "      <td>A3SGXH7AUHU8GW</td>\n",
       "      <td>delmartian</td>\n",
       "      <td>1</td>\n",
       "      <td>1</td>\n",
       "      <td>5</td>\n",
       "      <td>1303862400</td>\n",
       "      <td>Good Quality Dog Food</td>\n",
       "      <td>I have bought several of the Vitality canned d...</td>\n",
       "      <td>1</td>\n",
       "    </tr>\n",
       "    <tr>\n",
       "      <th>1</th>\n",
       "      <td>2</td>\n",
       "      <td>B00813GRG4</td>\n",
       "      <td>A1D87F6ZCVE5NK</td>\n",
       "      <td>dll pa</td>\n",
       "      <td>0</td>\n",
       "      <td>0</td>\n",
       "      <td>1</td>\n",
       "      <td>1346976000</td>\n",
       "      <td>Not as Advertised</td>\n",
       "      <td>Product arrived labeled as Jumbo Salted Peanut...</td>\n",
       "      <td>0</td>\n",
       "    </tr>\n",
       "    <tr>\n",
       "      <th>2</th>\n",
       "      <td>3</td>\n",
       "      <td>B000LQOCH0</td>\n",
       "      <td>ABXLMWJIXXAIN</td>\n",
       "      <td>Natalia Corres \"Natalia Corres\"</td>\n",
       "      <td>1</td>\n",
       "      <td>1</td>\n",
       "      <td>4</td>\n",
       "      <td>1219017600</td>\n",
       "      <td>\"Delight\" says it all</td>\n",
       "      <td>This is a confection that has been around a fe...</td>\n",
       "      <td>1</td>\n",
       "    </tr>\n",
       "    <tr>\n",
       "      <th>3</th>\n",
       "      <td>4</td>\n",
       "      <td>B000UA0QIQ</td>\n",
       "      <td>A395BORC6FGVXV</td>\n",
       "      <td>Karl</td>\n",
       "      <td>3</td>\n",
       "      <td>3</td>\n",
       "      <td>2</td>\n",
       "      <td>1307923200</td>\n",
       "      <td>Cough Medicine</td>\n",
       "      <td>If you are looking for the secret ingredient i...</td>\n",
       "      <td>0</td>\n",
       "    </tr>\n",
       "    <tr>\n",
       "      <th>4</th>\n",
       "      <td>5</td>\n",
       "      <td>B006K2ZZ7K</td>\n",
       "      <td>A1UQRSCLF8GW1T</td>\n",
       "      <td>Michael D. Bigham \"M. Wassir\"</td>\n",
       "      <td>0</td>\n",
       "      <td>0</td>\n",
       "      <td>5</td>\n",
       "      <td>1350777600</td>\n",
       "      <td>Great taffy</td>\n",
       "      <td>Great taffy at a great price.  There was a wid...</td>\n",
       "      <td>1</td>\n",
       "    </tr>\n",
       "  </tbody>\n",
       "</table>\n",
       "</div>"
      ],
      "text/plain": [
       "   Id   ProductId          UserId                      ProfileName  \\\n",
       "0   1  B001E4KFG0  A3SGXH7AUHU8GW                       delmartian   \n",
       "1   2  B00813GRG4  A1D87F6ZCVE5NK                           dll pa   \n",
       "2   3  B000LQOCH0   ABXLMWJIXXAIN  Natalia Corres \"Natalia Corres\"   \n",
       "3   4  B000UA0QIQ  A395BORC6FGVXV                             Karl   \n",
       "4   5  B006K2ZZ7K  A1UQRSCLF8GW1T    Michael D. Bigham \"M. Wassir\"   \n",
       "\n",
       "   HelpfulnessNumerator  HelpfulnessDenominator  Score        Time  \\\n",
       "0                     1                       1      5  1303862400   \n",
       "1                     0                       0      1  1346976000   \n",
       "2                     1                       1      4  1219017600   \n",
       "3                     3                       3      2  1307923200   \n",
       "4                     0                       0      5  1350777600   \n",
       "\n",
       "                 Summary                                               Text  \\\n",
       "0  Good Quality Dog Food  I have bought several of the Vitality canned d...   \n",
       "1      Not as Advertised  Product arrived labeled as Jumbo Salted Peanut...   \n",
       "2  \"Delight\" says it all  This is a confection that has been around a fe...   \n",
       "3         Cough Medicine  If you are looking for the secret ingredient i...   \n",
       "4            Great taffy  Great taffy at a great price.  There was a wid...   \n",
       "\n",
       "   Sentiment  \n",
       "0          1  \n",
       "1          0  \n",
       "2          1  \n",
       "3          0  \n",
       "4          1  "
      ]
     },
     "execution_count": 13,
     "metadata": {},
     "output_type": "execute_result"
    }
   ],
   "source": [
    "df.head()"
   ]
  },
  {
   "cell_type": "code",
   "execution_count": 14,
   "metadata": {},
   "outputs": [],
   "source": [
    "df = df.loc[:, ['Text', 'Sentiment']]"
   ]
  },
  {
   "cell_type": "code",
   "execution_count": 16,
   "metadata": {},
   "outputs": [],
   "source": [
    "df.to_csv('Reviews_Sentiment.csv', index=False)"
   ]
  },
  {
   "cell_type": "markdown",
   "metadata": {},
   "source": [
    "## Classifier"
   ]
  },
  {
   "cell_type": "code",
   "execution_count": 28,
   "metadata": {},
   "outputs": [],
   "source": [
    "data_clas = (TextList.from_csv(path, 'Reviews_Sentiment.csv', cols='Text', vocab=data_lm.vocab)\n",
    "                   .split_by_rand_pct()\n",
    "                   .label_from_df(cols='Sentiment')\n",
    "                   .databunch())"
   ]
  },
  {
   "cell_type": "code",
   "execution_count": 29,
   "metadata": {},
   "outputs": [],
   "source": [
    "data_clas.save('amazon_reviews_clas.pkl')"
   ]
  },
  {
   "cell_type": "code",
   "execution_count": 5,
   "metadata": {},
   "outputs": [],
   "source": [
    "data_clas = load_data(path, 'amazon_reviews_clas.pkl', bs=32)"
   ]
  },
  {
   "cell_type": "code",
   "execution_count": 8,
   "metadata": {},
   "outputs": [
    {
     "data": {
      "text/html": [
       "<table border=\"1\" class=\"dataframe\">\n",
       "  <thead>\n",
       "    <tr style=\"text-align: right;\">\n",
       "      <th>text</th>\n",
       "      <th>target</th>\n",
       "    </tr>\n",
       "  </thead>\n",
       "  <tbody>\n",
       "    <tr>\n",
       "      <td>xxbos xxmaj fuzzy xxmaj wuzzy 's xxmaj summary : \\n  * * * xxmaj somewhat recommended , with reservations and only lukewarm fuzzies . \\n \\n  xxmaj positives : \\n \\n  + xxmaj not too expensive compared to other bottled water , although it is not cheap either . \\n \\n  xxmaj negatives : \\n \\n  - xxmaj this bottled water product 's labeling ,</td>\n",
       "      <td>0</td>\n",
       "    </tr>\n",
       "    <tr>\n",
       "      <td>xxbos xxmaj update : 3 - 9 - 12 \\n \\n  xxmaj tomorrow marks the six - month anniversary of xxmaj whisper 's attack . xxmaj it 's hard to wrap my mind around that with an objective perspective . xxmaj he 's going to get steamed salmon filet to celebrate , and i will celebrate by trying to continue to spread the word about this wonderful tea !</td>\n",
       "      <td>1</td>\n",
       "    </tr>\n",
       "    <tr>\n",
       "      <td>xxbos xxmaj diamond xxmaj almonds \\n  xxmaj almonds are a good source of magnesium . xxmaj one ounce contain approximately 20 % of the xxup rda for an adult recommended dietary allowance ( xxup rda ) \\n  xxmaj recommended xxmaj dietary xxmaj allowance ( xxup rda ) the amounts of selected nutrients considered adequate to meet the known nutrient needs of healthy people . xxmaj the xxup rda</td>\n",
       "      <td>1</td>\n",
       "    </tr>\n",
       "    <tr>\n",
       "      <td>xxbos i ordered three packages because the price was so good , then i saw this . i am asking xxmaj amazon for a refund - otherwise , they are going in the trash unused . \\n \\n  xxmaj copied from xxup fda web site . \\n \\n  xxup fda xxmaj continues to xxmaj caution xxmaj dog xxmaj owners xxmaj about xxmaj chicken xxmaj jerky xxmaj products \\n</td>\n",
       "      <td>0</td>\n",
       "    </tr>\n",
       "    <tr>\n",
       "      <td>xxbos i 've been using xxmaj zuke 's xxmaj mini 's for training since i first brought my girl home and she ( surprisingly , for she 's quite picky ) still tolerates them and * sometimes * even seems to want to work for them . ( xxmaj not having a food motivated dog xxup sucks for training - i could literally be walking around with big macs in</td>\n",
       "      <td>1</td>\n",
       "    </tr>\n",
       "  </tbody>\n",
       "</table>"
      ],
      "text/plain": [
       "<IPython.core.display.HTML object>"
      ]
     },
     "metadata": {},
     "output_type": "display_data"
    }
   ],
   "source": [
    "data_clas.show_batch()"
   ]
  },
  {
   "cell_type": "code",
   "execution_count": 25,
   "metadata": {},
   "outputs": [],
   "source": [
    "learn.save_encoder('amazon_reviews_fine_tuned_enc')"
   ]
  },
  {
   "cell_type": "code",
   "execution_count": 6,
   "metadata": {},
   "outputs": [],
   "source": [
    "learn = text_classifier_learner(data_clas, AWD_LSTM, drop_mult=0.3)\n",
    "learn.load_encoder('amazon_reviews_fine_tuned_enc')"
   ]
  },
  {
   "cell_type": "code",
   "execution_count": 33,
   "metadata": {},
   "outputs": [
    {
     "data": {
      "text/html": [],
      "text/plain": [
       "<IPython.core.display.HTML object>"
      ]
     },
     "metadata": {},
     "output_type": "display_data"
    },
    {
     "name": "stdout",
     "output_type": "stream",
     "text": [
      "LR Finder is complete, type {learner_name}.recorder.plot() to see the graph.\n",
      "Min numerical gradient: 6.92E-02\n"
     ]
    },
    {
     "data": {
      "image/png": "[encoded data removed]",
      "text/plain": [
       "<Figure size 432x288 with 1 Axes>"
      ]
     },
     "metadata": {
      "needs_background": "light"
     },
     "output_type": "display_data"
    }
   ],
   "source": [
    "learn.lr_find()\n",
    "learn.recorder.plot(suggestion=True)"
   ]
  },
  {
   "cell_type": "code",
   "execution_count": 34,
   "metadata": {},
   "outputs": [
    {
     "data": {
      "text/plain": [
       "0.06918309709189363"
      ]
     },
     "execution_count": 34,
     "metadata": {},
     "output_type": "execute_result"
    }
   ],
   "source": [
    "min_grad_lr = learn.recorder.min_grad_lr\n",
    "min_grad_lr"
   ]
  },
  {
   "cell_type": "code",
   "execution_count": 35,
   "metadata": {},
   "outputs": [
    {
     "data": {
      "text/html": [
       "Total time: 38:37 <p><table border=\"1\" class=\"dataframe\">\n",
       "  <thead>\n",
       "    <tr style=\"text-align: left;\">\n",
       "      <th>epoch</th>\n",
       "      <th>train_loss</th>\n",
       "      <th>valid_loss</th>\n",
       "      <th>accuracy</th>\n",
       "      <th>time</th>\n",
       "    </tr>\n",
       "  </thead>\n",
       "  <tbody>\n",
       "    <tr>\n",
       "      <td>0</td>\n",
       "      <td>0.247247</td>\n",
       "      <td>0.217628</td>\n",
       "      <td>0.909596</td>\n",
       "      <td>38:37</td>\n",
       "    </tr>\n",
       "  </tbody>\n",
       "</table>"
      ],
      "text/plain": [
       "<IPython.core.display.HTML object>"
      ]
     },
     "metadata": {},
     "output_type": "display_data"
    }
   ],
   "source": [
    "learn.fit_one_cycle(1, min_grad_lr, moms=(0.8,0.7))"
   ]
  },
  {
   "cell_type": "code",
   "execution_count": 36,
   "metadata": {},
   "outputs": [],
   "source": [
    "learn.save('amazon_reviews_clas_first')"
   ]
  },
  {
   "cell_type": "code",
   "execution_count": 37,
   "metadata": {},
   "outputs": [
    {
     "data": {
      "text/plain": [
       "RNNLearner(data=TextClasDataBunch;\n",
       "\n",
       "Train: LabelList (454764 items)\n",
       "x: TextList\n",
       "xxbos xxmaj this is a confection that has been around a few centuries . xxmaj it is a light , pillowy citrus gelatin with nuts - in this case xxmaj filberts . xxmaj and it is cut into tiny squares and then liberally coated with powdered sugar . xxmaj and it is a tiny mouthful of heaven . xxmaj not too chewy , and very flavorful . i highly recommend this yummy treat . xxmaj if you are familiar with the story of xxup c.s. xxmaj lewis ' \" xxmaj the xxmaj lion , xxmaj the xxmaj witch , and xxmaj the xxmaj wardrobe \" - this is the treat that seduces xxmaj edmund into selling out his xxmaj brother and xxmaj sisters to the xxmaj witch .,xxbos xxmaj if you are looking for the secret ingredient in xxmaj robitussin i believe i have found it . i got this in addition to the xxmaj root xxmaj beer xxmaj extract i ordered ( which was good ) and made some cherry soda . xxmaj the flavor is very medicinal .,xxbos xxmaj great taffy at a great price . xxmaj there was a wide assortment of yummy taffy . xxmaj delivery was very quick . xxmaj if your a taffy lover , this is a deal .,xxbos i got a wild hair for taffy and ordered this five pound bag . xxmaj the taffy was all very enjoyable with many flavors : watermelon , root beer , melon , peppermint , grape , etc . xxmaj my only complaint is there was a bit too much red / black licorice - flavored pieces ( just not my particular favorites ) . xxmaj between me , my kids , and my husband , this lasted only two weeks ! i would recommend this brand of taffy -- it was a delightful treat .,xxbos xxmaj this saltwater taffy had great flavors and was very soft and chewy . xxmaj each candy was individually wrapped well . xxmaj none of the candies were stuck together , which did happen in the expensive version , xxmaj fralinger 's . xxmaj would highly recommend this candy ! i served it at a beach - themed party and everyone loved it !\n",
       "y: CategoryList\n",
       "1,0,1,1,1\n",
       "Path: /home/jupyter/work/data;\n",
       "\n",
       "Valid: LabelList (113690 items)\n",
       "x: TextList\n",
       "xxbos xxmaj good healthy snack . xxmaj crisp and satisfies a need for something crunchy without added sugar and additives . i prefer the sweetness and taste of the xxmaj fugi xxmaj apple crisps . xxmaj the granny 's are good but would only order more of the fugi ones due to personal preference . i want to try the mango chips on the next order .,xxbos xxmaj my husband and i both find this dessert from xxup xxunk to be the absolute best . i have purchased this item several times and try to keep a box on hand at all times for a quick dessert . xxmaj the ' sugar free sweetner ' after taste is very very low . xxmaj it is our favorite of all the xxup ediet xxmaj mousse products . xxmaj the texture is also the best of all the desserts we have tried from xxup xxunk . xxmaj it is smooth but has more body than some of the other items . xxmaj it is the closest to a ' real ' mousse . xxmaj if you like chocolate and coffee together give it a try .,xxbos xxmaj the xxmaj senseo coffee system has been our favorite for sometime now . xxmaj great tasting coffee and can make one cup at a time . xxmaj purchasing the pods through xxmaj amazon is by far the best price we have found . xxmaj who does n't like to save money on the things you would be buying anyway .,xxbos xxmaj this really is very easy , and does n't dirty up a separate bowl like other quick - fix macaroni products . xxmaj even with water , it 's very cheesy ! xxmaj make sure you stir very well after adding the cheese powder .,xxbos i hated olives until xxmaj oloves . xxmaj they 're so delicious and flavored perfectly . i used to get them from a frequent flyer i know who hated olives , but now i can get my own !\n",
       "y: CategoryList\n",
       "0,1,1,1,1\n",
       "Path: /home/jupyter/work/data;\n",
       "\n",
       "Test: None, model=SequentialRNN(\n",
       "  (0): MultiBatchEncoder(\n",
       "    (module): AWD_LSTM(\n",
       "      (encoder): Embedding(56252, 400, padding_idx=1)\n",
       "      (encoder_dp): EmbeddingDropout(\n",
       "        (emb): Embedding(56252, 400, padding_idx=1)\n",
       "      )\n",
       "      (rnns): ModuleList(\n",
       "        (0): WeightDropout(\n",
       "          (module): LSTM(400, 1150, batch_first=True)\n",
       "        )\n",
       "        (1): WeightDropout(\n",
       "          (module): LSTM(1150, 1150, batch_first=True)\n",
       "        )\n",
       "        (2): WeightDropout(\n",
       "          (module): LSTM(1150, 400, batch_first=True)\n",
       "        )\n",
       "      )\n",
       "      (input_dp): RNNDropout()\n",
       "      (hidden_dps): ModuleList(\n",
       "        (0): RNNDropout()\n",
       "        (1): RNNDropout()\n",
       "        (2): RNNDropout()\n",
       "      )\n",
       "    )\n",
       "  )\n",
       "  (1): PoolingLinearClassifier(\n",
       "    (layers): Sequential(\n",
       "      (0): BatchNorm1d(1200, eps=1e-05, momentum=0.1, affine=True, track_running_stats=True)\n",
       "      (1): Dropout(p=0.12)\n",
       "      (2): Linear(in_features=1200, out_features=50, bias=True)\n",
       "      (3): ReLU(inplace)\n",
       "      (4): BatchNorm1d(50, eps=1e-05, momentum=0.1, affine=True, track_running_stats=True)\n",
       "      (5): Dropout(p=0.1)\n",
       "      (6): Linear(in_features=50, out_features=2, bias=True)\n",
       "    )\n",
       "  )\n",
       "), opt_func=functools.partial(<class 'torch.optim.adam.Adam'>, betas=(0.9, 0.99)), loss_func=FlattenedLoss of CrossEntropyLoss(), metrics=[<function accuracy at 0x7faa3c79f0d0>], true_wd=True, bn_wd=True, wd=0.01, train_bn=True, path=PosixPath('/home/jupyter/work/data'), model_dir='models', callback_fns=[functools.partial(<class 'fastai.basic_train.Recorder'>, add_time=True)], callbacks=[RNNTrainer\n",
       "learn: RNNLearner(data=TextClasDataBunch;\n",
       "\n",
       "Train: LabelList (454764 items)\n",
       "x: TextList\n",
       "xxbos xxmaj this is a confection that has been around a few centuries . xxmaj it is a light , pillowy citrus gelatin with nuts - in this case xxmaj filberts . xxmaj and it is cut into tiny squares and then liberally coated with powdered sugar . xxmaj and it is a tiny mouthful of heaven . xxmaj not too chewy , and very flavorful . i highly recommend this yummy treat . xxmaj if you are familiar with the story of xxup c.s. xxmaj lewis ' \" xxmaj the xxmaj lion , xxmaj the xxmaj witch , and xxmaj the xxmaj wardrobe \" - this is the treat that seduces xxmaj edmund into selling out his xxmaj brother and xxmaj sisters to the xxmaj witch .,xxbos xxmaj if you are looking for the secret ingredient in xxmaj robitussin i believe i have found it . i got this in addition to the xxmaj root xxmaj beer xxmaj extract i ordered ( which was good ) and made some cherry soda . xxmaj the flavor is very medicinal .,xxbos xxmaj great taffy at a great price . xxmaj there was a wide assortment of yummy taffy . xxmaj delivery was very quick . xxmaj if your a taffy lover , this is a deal .,xxbos i got a wild hair for taffy and ordered this five pound bag . xxmaj the taffy was all very enjoyable with many flavors : watermelon , root beer , melon , peppermint , grape , etc . xxmaj my only complaint is there was a bit too much red / black licorice - flavored pieces ( just not my particular favorites ) . xxmaj between me , my kids , and my husband , this lasted only two weeks ! i would recommend this brand of taffy -- it was a delightful treat .,xxbos xxmaj this saltwater taffy had great flavors and was very soft and chewy . xxmaj each candy was individually wrapped well . xxmaj none of the candies were stuck together , which did happen in the expensive version , xxmaj fralinger 's . xxmaj would highly recommend this candy ! i served it at a beach - themed party and everyone loved it !\n",
       "y: CategoryList\n",
       "1,0,1,1,1\n",
       "Path: /home/jupyter/work/data;\n",
       "\n",
       "Valid: LabelList (113690 items)\n",
       "x: TextList\n",
       "xxbos xxmaj good healthy snack . xxmaj crisp and satisfies a need for something crunchy without added sugar and additives . i prefer the sweetness and taste of the xxmaj fugi xxmaj apple crisps . xxmaj the granny 's are good but would only order more of the fugi ones due to personal preference . i want to try the mango chips on the next order .,xxbos xxmaj my husband and i both find this dessert from xxup xxunk to be the absolute best . i have purchased this item several times and try to keep a box on hand at all times for a quick dessert . xxmaj the ' sugar free sweetner ' after taste is very very low . xxmaj it is our favorite of all the xxup ediet xxmaj mousse products . xxmaj the texture is also the best of all the desserts we have tried from xxup xxunk . xxmaj it is smooth but has more body than some of the other items . xxmaj it is the closest to a ' real ' mousse . xxmaj if you like chocolate and coffee together give it a try .,xxbos xxmaj the xxmaj senseo coffee system has been our favorite for sometime now . xxmaj great tasting coffee and can make one cup at a time . xxmaj purchasing the pods through xxmaj amazon is by far the best price we have found . xxmaj who does n't like to save money on the things you would be buying anyway .,xxbos xxmaj this really is very easy , and does n't dirty up a separate bowl like other quick - fix macaroni products . xxmaj even with water , it 's very cheesy ! xxmaj make sure you stir very well after adding the cheese powder .,xxbos i hated olives until xxmaj oloves . xxmaj they 're so delicious and flavored perfectly . i used to get them from a frequent flyer i know who hated olives , but now i can get my own !\n",
       "y: CategoryList\n",
       "0,1,1,1,1\n",
       "Path: /home/jupyter/work/data;\n",
       "\n",
       "Test: None, model=SequentialRNN(\n",
       "  (0): MultiBatchEncoder(\n",
       "    (module): AWD_LSTM(\n",
       "      (encoder): Embedding(56252, 400, padding_idx=1)\n",
       "      (encoder_dp): EmbeddingDropout(\n",
       "        (emb): Embedding(56252, 400, padding_idx=1)\n",
       "      )\n",
       "      (rnns): ModuleList(\n",
       "        (0): WeightDropout(\n",
       "          (module): LSTM(400, 1150, batch_first=True)\n",
       "        )\n",
       "        (1): WeightDropout(\n",
       "          (module): LSTM(1150, 1150, batch_first=True)\n",
       "        )\n",
       "        (2): WeightDropout(\n",
       "          (module): LSTM(1150, 400, batch_first=True)\n",
       "        )\n",
       "      )\n",
       "      (input_dp): RNNDropout()\n",
       "      (hidden_dps): ModuleList(\n",
       "        (0): RNNDropout()\n",
       "        (1): RNNDropout()\n",
       "        (2): RNNDropout()\n",
       "      )\n",
       "    )\n",
       "  )\n",
       "  (1): PoolingLinearClassifier(\n",
       "    (layers): Sequential(\n",
       "      (0): BatchNorm1d(1200, eps=1e-05, momentum=0.1, affine=True, track_running_stats=True)\n",
       "      (1): Dropout(p=0.12)\n",
       "      (2): Linear(in_features=1200, out_features=50, bias=True)\n",
       "      (3): ReLU(inplace)\n",
       "      (4): BatchNorm1d(50, eps=1e-05, momentum=0.1, affine=True, track_running_stats=True)\n",
       "      (5): Dropout(p=0.1)\n",
       "      (6): Linear(in_features=50, out_features=2, bias=True)\n",
       "    )\n",
       "  )\n",
       "), opt_func=functools.partial(<class 'torch.optim.adam.Adam'>, betas=(0.9, 0.99)), loss_func=FlattenedLoss of CrossEntropyLoss(), metrics=[<function accuracy at 0x7faa3c79f0d0>], true_wd=True, bn_wd=True, wd=0.01, train_bn=True, path=PosixPath('/home/jupyter/work/data'), model_dir='models', callback_fns=[functools.partial(<class 'fastai.basic_train.Recorder'>, add_time=True)], callbacks=[...], layer_groups=[Sequential(\n",
       "  (0): Embedding(56252, 400, padding_idx=1)\n",
       "  (1): EmbeddingDropout(\n",
       "    (emb): Embedding(56252, 400, padding_idx=1)\n",
       "  )\n",
       "), Sequential(\n",
       "  (0): WeightDropout(\n",
       "    (module): LSTM(400, 1150, batch_first=True)\n",
       "  )\n",
       "  (1): RNNDropout()\n",
       "), Sequential(\n",
       "  (0): WeightDropout(\n",
       "    (module): LSTM(1150, 1150, batch_first=True)\n",
       "  )\n",
       "  (1): RNNDropout()\n",
       "), Sequential(\n",
       "  (0): WeightDropout(\n",
       "    (module): LSTM(1150, 400, batch_first=True)\n",
       "  )\n",
       "  (1): RNNDropout()\n",
       "), Sequential(\n",
       "  (0): PoolingLinearClassifier(\n",
       "    (layers): Sequential(\n",
       "      (0): BatchNorm1d(1200, eps=1e-05, momentum=0.1, affine=True, track_running_stats=True)\n",
       "      (1): Dropout(p=0.12)\n",
       "      (2): Linear(in_features=1200, out_features=50, bias=True)\n",
       "      (3): ReLU(inplace)\n",
       "      (4): BatchNorm1d(50, eps=1e-05, momentum=0.1, affine=True, track_running_stats=True)\n",
       "      (5): Dropout(p=0.1)\n",
       "      (6): Linear(in_features=50, out_features=2, bias=True)\n",
       "    )\n",
       "  )\n",
       ")], add_time=True)\n",
       "alpha: 2.0\n",
       "beta: 1.0], layer_groups=[Sequential(\n",
       "  (0): Embedding(56252, 400, padding_idx=1)\n",
       "  (1): EmbeddingDropout(\n",
       "    (emb): Embedding(56252, 400, padding_idx=1)\n",
       "  )\n",
       "), Sequential(\n",
       "  (0): WeightDropout(\n",
       "    (module): LSTM(400, 1150, batch_first=True)\n",
       "  )\n",
       "  (1): RNNDropout()\n",
       "), Sequential(\n",
       "  (0): WeightDropout(\n",
       "    (module): LSTM(1150, 1150, batch_first=True)\n",
       "  )\n",
       "  (1): RNNDropout()\n",
       "), Sequential(\n",
       "  (0): WeightDropout(\n",
       "    (module): LSTM(1150, 400, batch_first=True)\n",
       "  )\n",
       "  (1): RNNDropout()\n",
       "), Sequential(\n",
       "  (0): PoolingLinearClassifier(\n",
       "    (layers): Sequential(\n",
       "      (0): BatchNorm1d(1200, eps=1e-05, momentum=0.1, affine=True, track_running_stats=True)\n",
       "      (1): Dropout(p=0.12)\n",
       "      (2): Linear(in_features=1200, out_features=50, bias=True)\n",
       "      (3): ReLU(inplace)\n",
       "      (4): BatchNorm1d(50, eps=1e-05, momentum=0.1, affine=True, track_running_stats=True)\n",
       "      (5): Dropout(p=0.1)\n",
       "      (6): Linear(in_features=50, out_features=2, bias=True)\n",
       "    )\n",
       "  )\n",
       ")], add_time=True)"
      ]
     },
     "execution_count": 37,
     "metadata": {},
     "output_type": "execute_result"
    }
   ],
   "source": [
    "learn.load('amazon_reviews_clas_first')"
   ]
  },
  {
   "cell_type": "code",
   "execution_count": 38,
   "metadata": {},
   "outputs": [
    {
     "data": {
      "text/html": [
       "Total time: 44:59 <p><table border=\"1\" class=\"dataframe\">\n",
       "  <thead>\n",
       "    <tr style=\"text-align: left;\">\n",
       "      <th>epoch</th>\n",
       "      <th>train_loss</th>\n",
       "      <th>valid_loss</th>\n",
       "      <th>accuracy</th>\n",
       "      <th>time</th>\n",
       "    </tr>\n",
       "  </thead>\n",
       "  <tbody>\n",
       "    <tr>\n",
       "      <td>0</td>\n",
       "      <td>0.158002</td>\n",
       "      <td>0.137935</td>\n",
       "      <td>0.946750</td>\n",
       "      <td>44:59</td>\n",
       "    </tr>\n",
       "  </tbody>\n",
       "</table>"
      ],
      "text/plain": [
       "<IPython.core.display.HTML object>"
      ]
     },
     "metadata": {},
     "output_type": "display_data"
    }
   ],
   "source": [
    "learn.freeze_to(-2)\n",
    "learn.fit_one_cycle(1, slice(1e-2/2., 1e-2))"
   ]
  },
  {
   "cell_type": "code",
   "execution_count": 39,
   "metadata": {},
   "outputs": [],
   "source": [
    "learn.save('amazon_reviews_clas_second')"
   ]
  },
  {
   "cell_type": "code",
   "execution_count": 7,
   "metadata": {},
   "outputs": [
    {
     "data": {
      "text/plain": [
       "RNNLearner(data=TextClasDataBunch;\n",
       "\n",
       "Train: LabelList (454764 items)\n",
       "x: TextList\n",
       "xxbos xxmaj this is a confection that has been around a few centuries . xxmaj it is a light , pillowy citrus gelatin with nuts - in this case xxmaj filberts . xxmaj and it is cut into tiny squares and then liberally coated with powdered sugar . xxmaj and it is a tiny mouthful of heaven . xxmaj not too chewy , and very flavorful . i highly recommend this yummy treat . xxmaj if you are familiar with the story of xxup c.s. xxmaj lewis ' \" xxmaj the xxmaj lion , xxmaj the xxmaj witch , and xxmaj the xxmaj wardrobe \" - this is the treat that seduces xxmaj edmund into selling out his xxmaj brother and xxmaj sisters to the xxmaj witch .,xxbos xxmaj if you are looking for the secret ingredient in xxmaj robitussin i believe i have found it . i got this in addition to the xxmaj root xxmaj beer xxmaj extract i ordered ( which was good ) and made some cherry soda . xxmaj the flavor is very medicinal .,xxbos xxmaj great taffy at a great price . xxmaj there was a wide assortment of yummy taffy . xxmaj delivery was very quick . xxmaj if your a taffy lover , this is a deal .,xxbos i got a wild hair for taffy and ordered this five pound bag . xxmaj the taffy was all very enjoyable with many flavors : watermelon , root beer , melon , peppermint , grape , etc . xxmaj my only complaint is there was a bit too much red / black licorice - flavored pieces ( just not my particular favorites ) . xxmaj between me , my kids , and my husband , this lasted only two weeks ! i would recommend this brand of taffy -- it was a delightful treat .,xxbos xxmaj this saltwater taffy had great flavors and was very soft and chewy . xxmaj each candy was individually wrapped well . xxmaj none of the candies were stuck together , which did happen in the expensive version , xxmaj fralinger 's . xxmaj would highly recommend this candy ! i served it at a beach - themed party and everyone loved it !\n",
       "y: CategoryList\n",
       "1,0,1,1,1\n",
       "Path: /home/jupyter/work/data;\n",
       "\n",
       "Valid: LabelList (113690 items)\n",
       "x: TextList\n",
       "xxbos xxmaj good healthy snack . xxmaj crisp and satisfies a need for something crunchy without added sugar and additives . i prefer the sweetness and taste of the xxmaj fugi xxmaj apple crisps . xxmaj the granny 's are good but would only order more of the fugi ones due to personal preference . i want to try the mango chips on the next order .,xxbos xxmaj my husband and i both find this dessert from xxup xxunk to be the absolute best . i have purchased this item several times and try to keep a box on hand at all times for a quick dessert . xxmaj the ' sugar free sweetner ' after taste is very very low . xxmaj it is our favorite of all the xxup ediet xxmaj mousse products . xxmaj the texture is also the best of all the desserts we have tried from xxup xxunk . xxmaj it is smooth but has more body than some of the other items . xxmaj it is the closest to a ' real ' mousse . xxmaj if you like chocolate and coffee together give it a try .,xxbos xxmaj the xxmaj senseo coffee system has been our favorite for sometime now . xxmaj great tasting coffee and can make one cup at a time . xxmaj purchasing the pods through xxmaj amazon is by far the best price we have found . xxmaj who does n't like to save money on the things you would be buying anyway .,xxbos xxmaj this really is very easy , and does n't dirty up a separate bowl like other quick - fix macaroni products . xxmaj even with water , it 's very cheesy ! xxmaj make sure you stir very well after adding the cheese powder .,xxbos i hated olives until xxmaj oloves . xxmaj they 're so delicious and flavored perfectly . i used to get them from a frequent flyer i know who hated olives , but now i can get my own !\n",
       "y: CategoryList\n",
       "0,1,1,1,1\n",
       "Path: /home/jupyter/work/data;\n",
       "\n",
       "Test: None, model=SequentialRNN(\n",
       "  (0): MultiBatchEncoder(\n",
       "    (module): AWD_LSTM(\n",
       "      (encoder): Embedding(56252, 400, padding_idx=1)\n",
       "      (encoder_dp): EmbeddingDropout(\n",
       "        (emb): Embedding(56252, 400, padding_idx=1)\n",
       "      )\n",
       "      (rnns): ModuleList(\n",
       "        (0): WeightDropout(\n",
       "          (module): LSTM(400, 1150, batch_first=True)\n",
       "        )\n",
       "        (1): WeightDropout(\n",
       "          (module): LSTM(1150, 1150, batch_first=True)\n",
       "        )\n",
       "        (2): WeightDropout(\n",
       "          (module): LSTM(1150, 400, batch_first=True)\n",
       "        )\n",
       "      )\n",
       "      (input_dp): RNNDropout()\n",
       "      (hidden_dps): ModuleList(\n",
       "        (0): RNNDropout()\n",
       "        (1): RNNDropout()\n",
       "        (2): RNNDropout()\n",
       "      )\n",
       "    )\n",
       "  )\n",
       "  (1): PoolingLinearClassifier(\n",
       "    (layers): Sequential(\n",
       "      (0): BatchNorm1d(1200, eps=1e-05, momentum=0.1, affine=True, track_running_stats=True)\n",
       "      (1): Dropout(p=0.12)\n",
       "      (2): Linear(in_features=1200, out_features=50, bias=True)\n",
       "      (3): ReLU(inplace)\n",
       "      (4): BatchNorm1d(50, eps=1e-05, momentum=0.1, affine=True, track_running_stats=True)\n",
       "      (5): Dropout(p=0.1)\n",
       "      (6): Linear(in_features=50, out_features=2, bias=True)\n",
       "    )\n",
       "  )\n",
       "), opt_func=functools.partial(<class 'torch.optim.adam.Adam'>, betas=(0.9, 0.99)), loss_func=FlattenedLoss of CrossEntropyLoss(), metrics=[<function accuracy at 0x7f0c18abe0d0>], true_wd=True, bn_wd=True, wd=0.01, train_bn=True, path=PosixPath('/home/jupyter/work/data'), model_dir='models', callback_fns=[functools.partial(<class 'fastai.basic_train.Recorder'>, add_time=True)], callbacks=[RNNTrainer\n",
       "learn: RNNLearner(data=TextClasDataBunch;\n",
       "\n",
       "Train: LabelList (454764 items)\n",
       "x: TextList\n",
       "xxbos xxmaj this is a confection that has been around a few centuries . xxmaj it is a light , pillowy citrus gelatin with nuts - in this case xxmaj filberts . xxmaj and it is cut into tiny squares and then liberally coated with powdered sugar . xxmaj and it is a tiny mouthful of heaven . xxmaj not too chewy , and very flavorful . i highly recommend this yummy treat . xxmaj if you are familiar with the story of xxup c.s. xxmaj lewis ' \" xxmaj the xxmaj lion , xxmaj the xxmaj witch , and xxmaj the xxmaj wardrobe \" - this is the treat that seduces xxmaj edmund into selling out his xxmaj brother and xxmaj sisters to the xxmaj witch .,xxbos xxmaj if you are looking for the secret ingredient in xxmaj robitussin i believe i have found it . i got this in addition to the xxmaj root xxmaj beer xxmaj extract i ordered ( which was good ) and made some cherry soda . xxmaj the flavor is very medicinal .,xxbos xxmaj great taffy at a great price . xxmaj there was a wide assortment of yummy taffy . xxmaj delivery was very quick . xxmaj if your a taffy lover , this is a deal .,xxbos i got a wild hair for taffy and ordered this five pound bag . xxmaj the taffy was all very enjoyable with many flavors : watermelon , root beer , melon , peppermint , grape , etc . xxmaj my only complaint is there was a bit too much red / black licorice - flavored pieces ( just not my particular favorites ) . xxmaj between me , my kids , and my husband , this lasted only two weeks ! i would recommend this brand of taffy -- it was a delightful treat .,xxbos xxmaj this saltwater taffy had great flavors and was very soft and chewy . xxmaj each candy was individually wrapped well . xxmaj none of the candies were stuck together , which did happen in the expensive version , xxmaj fralinger 's . xxmaj would highly recommend this candy ! i served it at a beach - themed party and everyone loved it !\n",
       "y: CategoryList\n",
       "1,0,1,1,1\n",
       "Path: /home/jupyter/work/data;\n",
       "\n",
       "Valid: LabelList (113690 items)\n",
       "x: TextList\n",
       "xxbos xxmaj good healthy snack . xxmaj crisp and satisfies a need for something crunchy without added sugar and additives . i prefer the sweetness and taste of the xxmaj fugi xxmaj apple crisps . xxmaj the granny 's are good but would only order more of the fugi ones due to personal preference . i want to try the mango chips on the next order .,xxbos xxmaj my husband and i both find this dessert from xxup xxunk to be the absolute best . i have purchased this item several times and try to keep a box on hand at all times for a quick dessert . xxmaj the ' sugar free sweetner ' after taste is very very low . xxmaj it is our favorite of all the xxup ediet xxmaj mousse products . xxmaj the texture is also the best of all the desserts we have tried from xxup xxunk . xxmaj it is smooth but has more body than some of the other items . xxmaj it is the closest to a ' real ' mousse . xxmaj if you like chocolate and coffee together give it a try .,xxbos xxmaj the xxmaj senseo coffee system has been our favorite for sometime now . xxmaj great tasting coffee and can make one cup at a time . xxmaj purchasing the pods through xxmaj amazon is by far the best price we have found . xxmaj who does n't like to save money on the things you would be buying anyway .,xxbos xxmaj this really is very easy , and does n't dirty up a separate bowl like other quick - fix macaroni products . xxmaj even with water , it 's very cheesy ! xxmaj make sure you stir very well after adding the cheese powder .,xxbos i hated olives until xxmaj oloves . xxmaj they 're so delicious and flavored perfectly . i used to get them from a frequent flyer i know who hated olives , but now i can get my own !\n",
       "y: CategoryList\n",
       "0,1,1,1,1\n",
       "Path: /home/jupyter/work/data;\n",
       "\n",
       "Test: None, model=SequentialRNN(\n",
       "  (0): MultiBatchEncoder(\n",
       "    (module): AWD_LSTM(\n",
       "      (encoder): Embedding(56252, 400, padding_idx=1)\n",
       "      (encoder_dp): EmbeddingDropout(\n",
       "        (emb): Embedding(56252, 400, padding_idx=1)\n",
       "      )\n",
       "      (rnns): ModuleList(\n",
       "        (0): WeightDropout(\n",
       "          (module): LSTM(400, 1150, batch_first=True)\n",
       "        )\n",
       "        (1): WeightDropout(\n",
       "          (module): LSTM(1150, 1150, batch_first=True)\n",
       "        )\n",
       "        (2): WeightDropout(\n",
       "          (module): LSTM(1150, 400, batch_first=True)\n",
       "        )\n",
       "      )\n",
       "      (input_dp): RNNDropout()\n",
       "      (hidden_dps): ModuleList(\n",
       "        (0): RNNDropout()\n",
       "        (1): RNNDropout()\n",
       "        (2): RNNDropout()\n",
       "      )\n",
       "    )\n",
       "  )\n",
       "  (1): PoolingLinearClassifier(\n",
       "    (layers): Sequential(\n",
       "      (0): BatchNorm1d(1200, eps=1e-05, momentum=0.1, affine=True, track_running_stats=True)\n",
       "      (1): Dropout(p=0.12)\n",
       "      (2): Linear(in_features=1200, out_features=50, bias=True)\n",
       "      (3): ReLU(inplace)\n",
       "      (4): BatchNorm1d(50, eps=1e-05, momentum=0.1, affine=True, track_running_stats=True)\n",
       "      (5): Dropout(p=0.1)\n",
       "      (6): Linear(in_features=50, out_features=2, bias=True)\n",
       "    )\n",
       "  )\n",
       "), opt_func=functools.partial(<class 'torch.optim.adam.Adam'>, betas=(0.9, 0.99)), loss_func=FlattenedLoss of CrossEntropyLoss(), metrics=[<function accuracy at 0x7f0c18abe0d0>], true_wd=True, bn_wd=True, wd=0.01, train_bn=True, path=PosixPath('/home/jupyter/work/data'), model_dir='models', callback_fns=[functools.partial(<class 'fastai.basic_train.Recorder'>, add_time=True)], callbacks=[...], layer_groups=[Sequential(\n",
       "  (0): Embedding(56252, 400, padding_idx=1)\n",
       "  (1): EmbeddingDropout(\n",
       "    (emb): Embedding(56252, 400, padding_idx=1)\n",
       "  )\n",
       "), Sequential(\n",
       "  (0): WeightDropout(\n",
       "    (module): LSTM(400, 1150, batch_first=True)\n",
       "  )\n",
       "  (1): RNNDropout()\n",
       "), Sequential(\n",
       "  (0): WeightDropout(\n",
       "    (module): LSTM(1150, 1150, batch_first=True)\n",
       "  )\n",
       "  (1): RNNDropout()\n",
       "), Sequential(\n",
       "  (0): WeightDropout(\n",
       "    (module): LSTM(1150, 400, batch_first=True)\n",
       "  )\n",
       "  (1): RNNDropout()\n",
       "), Sequential(\n",
       "  (0): PoolingLinearClassifier(\n",
       "    (layers): Sequential(\n",
       "      (0): BatchNorm1d(1200, eps=1e-05, momentum=0.1, affine=True, track_running_stats=True)\n",
       "      (1): Dropout(p=0.12)\n",
       "      (2): Linear(in_features=1200, out_features=50, bias=True)\n",
       "      (3): ReLU(inplace)\n",
       "      (4): BatchNorm1d(50, eps=1e-05, momentum=0.1, affine=True, track_running_stats=True)\n",
       "      (5): Dropout(p=0.1)\n",
       "      (6): Linear(in_features=50, out_features=2, bias=True)\n",
       "    )\n",
       "  )\n",
       ")], add_time=True)\n",
       "alpha: 2.0\n",
       "beta: 1.0], layer_groups=[Sequential(\n",
       "  (0): Embedding(56252, 400, padding_idx=1)\n",
       "  (1): EmbeddingDropout(\n",
       "    (emb): Embedding(56252, 400, padding_idx=1)\n",
       "  )\n",
       "), Sequential(\n",
       "  (0): WeightDropout(\n",
       "    (module): LSTM(400, 1150, batch_first=True)\n",
       "  )\n",
       "  (1): RNNDropout()\n",
       "), Sequential(\n",
       "  (0): WeightDropout(\n",
       "    (module): LSTM(1150, 1150, batch_first=True)\n",
       "  )\n",
       "  (1): RNNDropout()\n",
       "), Sequential(\n",
       "  (0): WeightDropout(\n",
       "    (module): LSTM(1150, 400, batch_first=True)\n",
       "  )\n",
       "  (1): RNNDropout()\n",
       "), Sequential(\n",
       "  (0): PoolingLinearClassifier(\n",
       "    (layers): Sequential(\n",
       "      (0): BatchNorm1d(1200, eps=1e-05, momentum=0.1, affine=True, track_running_stats=True)\n",
       "      (1): Dropout(p=0.12)\n",
       "      (2): Linear(in_features=1200, out_features=50, bias=True)\n",
       "      (3): ReLU(inplace)\n",
       "      (4): BatchNorm1d(50, eps=1e-05, momentum=0.1, affine=True, track_running_stats=True)\n",
       "      (5): Dropout(p=0.1)\n",
       "      (6): Linear(in_features=50, out_features=2, bias=True)\n",
       "    )\n",
       "  )\n",
       ")], add_time=True)"
      ]
     },
     "execution_count": 7,
     "metadata": {},
     "output_type": "execute_result"
    }
   ],
   "source": [
    "learn.load('amazon_reviews_clas_second')"
   ]
  },
  {
   "cell_type": "code",
   "execution_count": 9,
   "metadata": {},
   "outputs": [
    {
     "data": {
      "text/plain": [
       "(Category 0, tensor(0), tensor([0.8020, 0.1980]))"
      ]
     },
     "execution_count": 9,
     "metadata": {},
     "output_type": "execute_result"
    }
   ],
   "source": [
    "learn.predict('Not a good purchase at the price point,lags a lot and there is no app lock in the phone.U have to download a third party app lock to lock ur apps and that is not safe at all.')"
   ]
  },
  {
   "cell_type": "code",
   "execution_count": 10,
   "metadata": {},
   "outputs": [
    {
     "data": {
      "text/plain": [
       "(Category 1, tensor(1), tensor([0.0916, 0.9084]))"
      ]
     },
     "execution_count": 10,
     "metadata": {},
     "output_type": "execute_result"
    }
   ],
   "source": [
    "learn.predict('I would say it is pretty good for the price. Looks sleek and slim, is light to carry around, screen display and sound is also good. Battery Life is pretty good at around 6+ Hrs')"
   ]
  },
  {
   "cell_type": "markdown",
   "metadata": {},
   "source": [
    "### Refrences\n",
    "* [Fastai Course](https://course.fast.ai/)"
   ]
  },
  {
   "cell_type": "code",
   "execution_count": null,
   "metadata": {},
   "outputs": [],
   "source": []
  }
 ],
 "metadata": {
  "kernelspec": {
   "display_name": "Python 3",
   "language": "python",
   "name": "python3"
  },
  "language_info": {
   "codemirror_mode": {
    "name": "ipython",
    "version": 3
   },
   "file_extension": ".py",
   "mimetype": "text/x-python",
   "name": "python",
   "nbconvert_exporter": "python",
   "pygments_lexer": "ipython3",
   "version": "3.7.1"
  }
 },
 "nbformat": 4,
 "nbformat_minor": 2
}
